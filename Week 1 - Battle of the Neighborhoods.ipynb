{
 "cells": [
  {
   "cell_type": "markdown",
   "metadata": {},
   "source": [
    "## 1. A description of the problem and a discussion of the background."
   ]
  },
  {
   "cell_type": "markdown",
   "metadata": {},
   "source": [
    "#### Mr. Gohan is the resident of Memphis, TN. A bustling city on the banks of the mighty Mississipi. Memphis is known for its blues, barbecue and fried chicken. Southern comfort food is still the most popular choice of residents. People want to eat out more and are steering towards healthier options. Turning Vegan and vegetarian is the latest fitness trend. Pictures of food are among the most shared on social media.  \n",
    "\n",
    "#### Small vegan joints are popping up across the city. Mr. Gohan  wants in on the action and is looking to open a vegan restaurant. Mr. Gohan wants to know which neighborhood promises a good footfall and a better return on investment."
   ]
  },
  {
   "cell_type": "markdown",
   "metadata": {},
   "source": [
    "## 2. A description of the data and how it will be used to solve the problem."
   ]
  },
  {
   "cell_type": "markdown",
   "metadata": {},
   "source": [
    "#### The various dependencies (*eg. geopy, pandas, matplotlib etc.*) required for this data analysis will be downloaded. Calls to the Foursquare API will be made to explore the different geographic locations. The data for the various location is available at the following Wikipedia page : https://en.wikipedia.org/wiki/List_of_neighborhoods_in_Memphis,_Tennessee \n",
    "\n",
    "#### I will look at the different neighborhoods and the types of restaurants in these neighborhoods. I will analyze the neighborhoods with the maximum number of restaurants and find out if there are any Vegan restaurants. The neighborhood with the most diverse set of restaurants will be ideal for Mr. Gohan as it suggests that the residents there like variety. "
   ]
  },
  {
   "cell_type": "code",
   "execution_count": null,
   "metadata": {},
   "outputs": [],
   "source": []
  }
 ],
 "metadata": {
  "kernelspec": {
   "display_name": "Python 3",
   "language": "python",
   "name": "python3"
  },
  "language_info": {
   "codemirror_mode": {
    "name": "ipython",
    "version": 3
   },
   "file_extension": ".py",
   "mimetype": "text/x-python",
   "name": "python",
   "nbconvert_exporter": "python",
   "pygments_lexer": "ipython3",
   "version": "3.7.3"
  }
 },
 "nbformat": 4,
 "nbformat_minor": 2
}
